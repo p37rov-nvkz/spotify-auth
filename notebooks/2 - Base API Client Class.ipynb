{
 "cells": [
  {
   "cell_type": "code",
   "execution_count": 7,
   "id": "artistic-skill",
   "metadata": {},
   "outputs": [],
   "source": [
    "import requests\n",
    "import datetime\n",
    "import base64\n",
    "\n",
    "client_id = 'd6afbe6154a54b2d96cad1a14260cfa9'\n",
    "client_secret = '1ce7edea09e3413fb6d25fbc74982fef'"
   ]
  },
  {
   "cell_type": "code",
   "execution_count": 10,
   "id": "respected-shelter",
   "metadata": {},
   "outputs": [],
   "source": [
    "class SpotifyAPI(object):\n",
    "    access_token = None\n",
    "    access_token_expires = datetime.datetime.now()\n",
    "    access_token_did_expires = True\n",
    "    client_id = None\n",
    "    client_secret = None\n",
    "    token_url = 'https://accounts.spotify.com/api/token'\n",
    "\n",
    "    \n",
    "    \n",
    "    def __init__(self, client_id, client_secret, *args, **kwargs):\n",
    "        super().__init__(*args, **kwargs)\n",
    "        self.client_id = client_id\n",
    "        self.client_secret = client_secret\n",
    "    \n",
    "    \n",
    "    def get_client_credentials(self):\n",
    "        \"\"\"\n",
    "        Returns a base64 encoded string\n",
    "        \"\"\"\n",
    "        client_id = self.client_id\n",
    "        client_secret = self.client_secret\n",
    "        \n",
    "        if client_id == None or client_secret == None:\n",
    "            raise Exception('You must set client_id or client_secret')\n",
    "        \n",
    "        client_creds = f\"{client_id}:{client_secret}\"\n",
    "        client_creds_b64 = base64.b64encode(client_creds.encode())\n",
    "\n",
    "        return client_creds_b64.decode()\n",
    "        \n",
    "    \n",
    "    def get_token_headers(self):\n",
    "        client_creds_b64 = self.get_client_credentials()\n",
    "        return {\n",
    "            \"Authorization\": f\"Basic {client_creds_b64}\",\n",
    "        }\n",
    "    \n",
    "    \n",
    "    def get_token_data(self):\n",
    "        return {\n",
    "            \"grant_type\": \"client_credentials\",\n",
    "        }\n",
    "        \n",
    "    \n",
    "    \n",
    "    def perform_auth(self):\n",
    "        token_url = self.token_url\n",
    "        token_data = self.get_token_data()\n",
    "        token_headers = self.get_token_headers()        \n",
    "        r = requests.post(token_url, data=token_data, headers=token_headers)\n",
    "\n",
    "        if r.status_code not in range(200, 299):\n",
    "            return False\n",
    "            \n",
    "        data = r.json()\n",
    "        now = datetime.datetime.now()\n",
    "        access_token = data['access_token']\n",
    "        expires_in = data['expires_in'] # seconds\n",
    "        expires = now + datetime.timedelta(seconds=expires_in)\n",
    "        self.access_token = access_token\n",
    "        self.access_token_did_expires = expires < now\n",
    "        return True\n",
    "        \n"
   ]
  },
  {
   "cell_type": "code",
   "execution_count": 16,
   "id": "acceptable-hearing",
   "metadata": {},
   "outputs": [],
   "source": [
    "spotify = SpotifyAPI(client_id, client_secret)"
   ]
  },
  {
   "cell_type": "code",
   "execution_count": 17,
   "id": "fourth-sheet",
   "metadata": {},
   "outputs": [
    {
     "data": {
      "text/plain": [
       "True"
      ]
     },
     "execution_count": 17,
     "metadata": {},
     "output_type": "execute_result"
    }
   ],
   "source": [
    "spotify.perform_auth()"
   ]
  },
  {
   "cell_type": "code",
   "execution_count": 18,
   "id": "billion-fruit",
   "metadata": {},
   "outputs": [
    {
     "data": {
      "text/plain": [
       "'BQAghmR00Q6AYRvHUX-AwwAuSqTNPUFZdDvUYcin6w4Z9-nZ3adeHy02AnPQaHPeg5At4xFJ2P_P-ZRoDYE'"
      ]
     },
     "execution_count": 18,
     "metadata": {},
     "output_type": "execute_result"
    }
   ],
   "source": [
    "spotify.access_token"
   ]
  },
  {
   "cell_type": "code",
   "execution_count": null,
   "id": "listed-beijing",
   "metadata": {},
   "outputs": [],
   "source": []
  },
  {
   "cell_type": "code",
   "execution_count": null,
   "id": "billion-marijuana",
   "metadata": {},
   "outputs": [],
   "source": []
  }
 ],
 "metadata": {
  "kernelspec": {
   "display_name": "Python 3",
   "language": "python",
   "name": "python3"
  },
  "language_info": {
   "codemirror_mode": {
    "name": "ipython",
    "version": 3
   },
   "file_extension": ".py",
   "mimetype": "text/x-python",
   "name": "python",
   "nbconvert_exporter": "python",
   "pygments_lexer": "ipython3",
   "version": "3.8.5"
  }
 },
 "nbformat": 4,
 "nbformat_minor": 5
}
