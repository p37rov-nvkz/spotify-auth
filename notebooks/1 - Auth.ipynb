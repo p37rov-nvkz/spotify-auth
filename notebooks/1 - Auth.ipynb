{
 "cells": [
  {
   "cell_type": "code",
   "execution_count": null,
   "id": "artistic-skill",
   "metadata": {},
   "outputs": [],
   "source": [
    "!pip install requests\n",
    "import requests"
   ]
  },
  {
   "cell_type": "code",
   "execution_count": 4,
   "id": "decreased-choir",
   "metadata": {},
   "outputs": [],
   "source": [
    "client_id = 'd6afbe6154a54b2d96cad1a14260cfa9'\n",
    "client_secret = '1ce7edea09e3413fb6d25fbc74982fef'"
   ]
  },
  {
   "cell_type": "code",
   "execution_count": 5,
   "id": "large-synthetic",
   "metadata": {},
   "outputs": [],
   "source": [
    "import base64\n",
    "import requests\n",
    "import datetime\n",
    "\n",
    "client_creds = f\"{client_id}:{client_secret}\"\n",
    "client_creds_b64 = base64.b64encode(client_creds.encode())\n",
    "\n",
    "token_url = 'https://accounts.spotify.com/api/token'\n",
    "method = 'POST'\n",
    "token_data = {\n",
    "    \"grant_type\": \"client_credentials\",\n",
    "}\n",
    "token_headers = {\n",
    "    \"Authorization\": f\"Basic {client_creds_b64.decode()}\", # <base64 encoded client_id:client_secret>\n",
    "}\n"
   ]
  },
  {
   "cell_type": "code",
   "execution_count": 12,
   "id": "executed-department",
   "metadata": {},
   "outputs": [],
   "source": [
    "r = requests.post(token_url, data=token_data, headers=token_headers)\n",
    "valid_request = r.status_code in range(200, 299)\n"
   ]
  },
  {
   "cell_type": "code",
   "execution_count": 13,
   "id": "veterinary-portfolio",
   "metadata": {},
   "outputs": [
    {
     "name": "stdout",
     "output_type": "stream",
     "text": [
      "BQAXa-5Ijy-gJ3KYcw-e_w6jgh0De6Bd13RBU1AEkimMn0exZvNm7Nn85J6eQLQr0jpMPjcow9-sgUhCOUQ\n"
     ]
    }
   ],
   "source": [
    "if valid_request:\n",
    "    token_response_data = r.json()\n",
    "    now = datetime.datetime.now()\n",
    "    access_token = token_response_data['access_token']\n",
    "    expires_in = token_response_data['expires_in'] # seconds\n",
    "    expires = now + datetime.timedelta(seconds=expires_in)\n",
    "    did_expire = expires < now\n",
    "    print(access_token)"
   ]
  },
  {
   "cell_type": "code",
   "execution_count": null,
   "id": "acceptable-hearing",
   "metadata": {},
   "outputs": [],
   "source": []
  }
 ],
 "metadata": {
  "kernelspec": {
   "display_name": "Python 3",
   "language": "python",
   "name": "python3"
  },
  "language_info": {
   "codemirror_mode": {
    "name": "ipython",
    "version": 3
   },
   "file_extension": ".py",
   "mimetype": "text/x-python",
   "name": "python",
   "nbconvert_exporter": "python",
   "pygments_lexer": "ipython3",
   "version": "3.8.5"
  }
 },
 "nbformat": 4,
 "nbformat_minor": 5
}
