{
 "cells": [
  {
   "cell_type": "code",
   "execution_count": 1,
   "metadata": {},
   "outputs": [],
   "source": [
    "import requests\n",
    "import datetime\n",
    "import base64\n",
    "from urllib.parse import urlencode\n",
    "\n",
    "client_id = 'ID'\n",
    "client_secret = 'SECRET'"
   ]
  },
  {
   "cell_type": "code",
   "execution_count": 2,
   "metadata": {},
   "outputs": [],
   "source": [
    "class SpotifyAPI(object):\n",
    "    access_token = None\n",
    "    access_token_expires = datetime.datetime.now()\n",
    "    access_token_did_expires = True\n",
    "    client_id = None\n",
    "    client_secret = None\n",
    "    token_url = 'https://accounts.spotify.com/api/token'\n",
    "\n",
    "    \n",
    "    \n",
    "    def __init__(self, client_id, client_secret, *args, **kwargs):\n",
    "        super().__init__(*args, **kwargs)\n",
    "        self.client_id = client_id\n",
    "        self.client_secret = client_secret\n",
    "    \n",
    "    \n",
    "    def get_client_credentials(self):\n",
    "        \"\"\"\n",
    "        Returns a base64 encoded string\n",
    "        \"\"\"\n",
    "        client_id = self.client_id\n",
    "        client_secret = self.client_secret\n",
    "        \n",
    "        if client_id == None or client_secret == None:\n",
    "            raise Exception('You must set client_id or client_secret')\n",
    "        \n",
    "        client_creds = f\"{client_id}:{client_secret}\"\n",
    "        client_creds_b64 = base64.b64encode(client_creds.encode())\n",
    "\n",
    "        return client_creds_b64.decode()\n",
    "        \n",
    "    \n",
    "    def get_token_headers(self):\n",
    "        client_creds_b64 = self.get_client_credentials()\n",
    "        return {\n",
    "            \"Authorization\": f\"Basic {client_creds_b64}\",\n",
    "        }\n",
    "    \n",
    "    \n",
    "    def get_token_data(self):\n",
    "        return {\n",
    "            \"grant_type\": \"client_credentials\",\n",
    "        }\n",
    "        \n",
    "    \n",
    "    \n",
    "    def perform_auth(self):\n",
    "        token_url = self.token_url\n",
    "        token_data = self.get_token_data()\n",
    "        token_headers = self.get_token_headers()        \n",
    "        r = requests.post(token_url, data=token_data, headers=token_headers)\n",
    "\n",
    "        if r.status_code not in range(200, 299):\n",
    "            return False\n",
    "            \n",
    "        data = r.json()\n",
    "        now = datetime.datetime.now()\n",
    "        access_token = data['access_token']\n",
    "        expires_in = data['expires_in'] # seconds\n",
    "        expires = now + datetime.timedelta(seconds=expires_in)\n",
    "        self.access_token = access_token\n",
    "        self.access_token_did_expires = expires < now\n",
    "        return True\n",
    "        \n"
   ]
  },
  {
   "cell_type": "code",
   "execution_count": 12,
   "metadata": {},
   "outputs": [],
   "source": [
    "spotify = SpotifyAPI(client_id, client_secret)"
   ]
  },
  {
   "cell_type": "code",
   "execution_count": 15,
   "metadata": {},
   "outputs": [
    {
     "data": {
      "text/plain": [
       "datetime.datetime(2021, 2, 26, 6, 58, 59, 170108)"
      ]
     },
     "execution_count": 15,
     "metadata": {},
     "output_type": "execute_result"
    }
   ],
   "source": [
    "spotify.perform_auth()\n",
    "spotify.access_token_expires"
   ]
  },
  {
   "cell_type": "code",
   "execution_count": 9,
   "metadata": {},
   "outputs": [
    {
     "name": "stdout",
     "output_type": "stream",
     "text": [
      "BQCGP3m68JX4oeOh4_v7m52NUhQU8a0fFYIVrrtXhn9CN11F5f99Ujsy6Ss77aWG-f991OJtpVvZv1zrbsY\n"
     ]
    }
   ],
   "source": [
    "access_token = spotify.access_token\n",
    "print(access_token)"
   ]
  },
  {
   "cell_type": "code",
   "execution_count": 6,
   "metadata": {},
   "outputs": [
    {
     "name": "stdout",
     "output_type": "stream",
     "text": [
      "{'tracks': {'href': 'https://api.spotify.com/v1/search?query=shamosis+morning&type=track&offset=0&limit=20', 'items': [{'album': {'album_type': 'single', 'artists': [{'external_urls': {'spotify': 'https://open.spotify.com/artist/2LOMjRnJPrJ6ha9ghtPcdf'}, 'href': 'https://api.spotify.com/v1/artists/2LOMjRnJPrJ6ha9ghtPcdf', 'id': '2LOMjRnJPrJ6ha9ghtPcdf', 'name': 'Shamosis', 'type': 'artist', 'uri': 'spotify:artist:2LOMjRnJPrJ6ha9ghtPcdf'}], 'available_markets': ['AD', 'AE', 'AG', 'AL', 'AM', 'AR', 'AT', 'AU', 'AZ', 'BA', 'BB', 'BD', 'BE', 'BF', 'BG', 'BH', 'BI', 'BN', 'BO', 'BR', 'BS', 'BT', 'BW', 'BY', 'BZ', 'CA', 'CH', 'CL', 'CM', 'CO', 'CR', 'CV', 'CW', 'CY', 'CZ', 'DE', 'DK', 'DM', 'DO', 'DZ', 'EC', 'EE', 'EG', 'ES', 'FI', 'FJ', 'FM', 'FR', 'GA', 'GB', 'GD', 'GE', 'GH', 'GM', 'GN', 'GQ', 'GR', 'GT', 'GW', 'GY', 'HK', 'HN', 'HR', 'HT', 'HU', 'ID', 'IE', 'IL', 'IN', 'IS', 'IT', 'JM', 'JO', 'JP', 'KE', 'KG', 'KH', 'KI', 'KM', 'KN', 'KR', 'KW', 'KZ', 'LA', 'LB', 'LC', 'LI', 'LK', 'LR', 'LS', 'LT', 'LU', 'LV', 'MA', 'MC', 'MD', 'ME', 'MH', 'MK', 'ML', 'MN', 'MO', 'MR', 'MT', 'MV', 'MW', 'MX', 'MY', 'NA', 'NE', 'NG', 'NI', 'NL', 'NO', 'NP', 'NR', 'NZ', 'OM', 'PA', 'PE', 'PG', 'PH', 'PK', 'PL', 'PS', 'PT', 'PW', 'PY', 'QA', 'RO', 'RS', 'RU', 'RW', 'SA', 'SB', 'SC', 'SE', 'SG', 'SI', 'SK', 'SL', 'SM', 'SN', 'SR', 'ST', 'SV', 'SZ', 'TD', 'TG', 'TH', 'TL', 'TN', 'TO', 'TR', 'TT', 'TV', 'TW', 'TZ', 'UA', 'UG', 'US', 'UY', 'UZ', 'VC', 'VN', 'VU', 'WS', 'XK', 'ZA', 'ZW'], 'external_urls': {'spotify': 'https://open.spotify.com/album/0Q7OEuM7Y2J5JNg6MuOWNP'}, 'href': 'https://api.spotify.com/v1/albums/0Q7OEuM7Y2J5JNg6MuOWNP', 'id': '0Q7OEuM7Y2J5JNg6MuOWNP', 'images': [{'height': 640, 'url': 'https://i.scdn.co/image/ab67616d0000b27327d50c2cf644fb69201e70d4', 'width': 640}, {'height': 300, 'url': 'https://i.scdn.co/image/ab67616d00001e0227d50c2cf644fb69201e70d4', 'width': 300}, {'height': 64, 'url': 'https://i.scdn.co/image/ab67616d0000485127d50c2cf644fb69201e70d4', 'width': 64}], 'name': 'Dance Of The Kirlia', 'release_date': '2019-04-19', 'release_date_precision': 'day', 'total_tracks': 4, 'type': 'album', 'uri': 'spotify:album:0Q7OEuM7Y2J5JNg6MuOWNP'}, 'artists': [{'external_urls': {'spotify': 'https://open.spotify.com/artist/2LOMjRnJPrJ6ha9ghtPcdf'}, 'href': 'https://api.spotify.com/v1/artists/2LOMjRnJPrJ6ha9ghtPcdf', 'id': '2LOMjRnJPrJ6ha9ghtPcdf', 'name': 'Shamosis', 'type': 'artist', 'uri': 'spotify:artist:2LOMjRnJPrJ6ha9ghtPcdf'}], 'available_markets': ['AD', 'AE', 'AG', 'AL', 'AM', 'AR', 'AT', 'AU', 'AZ', 'BA', 'BB', 'BD', 'BE', 'BF', 'BG', 'BH', 'BI', 'BN', 'BO', 'BR', 'BS', 'BT', 'BW', 'BY', 'BZ', 'CA', 'CH', 'CL', 'CM', 'CO', 'CR', 'CV', 'CW', 'CY', 'CZ', 'DE', 'DK', 'DM', 'DO', 'DZ', 'EC', 'EE', 'EG', 'ES', 'FI', 'FJ', 'FM', 'FR', 'GA', 'GB', 'GD', 'GE', 'GH', 'GM', 'GN', 'GQ', 'GR', 'GT', 'GW', 'GY', 'HK', 'HN', 'HR', 'HT', 'HU', 'ID', 'IE', 'IL', 'IN', 'IS', 'IT', 'JM', 'JO', 'JP', 'KE', 'KG', 'KH', 'KI', 'KM', 'KN', 'KR', 'KW', 'KZ', 'LA', 'LB', 'LC', 'LI', 'LK', 'LR', 'LS', 'LT', 'LU', 'LV', 'MA', 'MC', 'MD', 'ME', 'MH', 'MK', 'ML', 'MN', 'MO', 'MR', 'MT', 'MV', 'MW', 'MX', 'MY', 'NA', 'NE', 'NG', 'NI', 'NL', 'NO', 'NP', 'NR', 'NZ', 'OM', 'PA', 'PE', 'PG', 'PH', 'PK', 'PL', 'PS', 'PT', 'PW', 'PY', 'QA', 'RO', 'RS', 'RU', 'RW', 'SA', 'SB', 'SC', 'SE', 'SG', 'SI', 'SK', 'SL', 'SM', 'SN', 'SR', 'ST', 'SV', 'SZ', 'TD', 'TG', 'TH', 'TL', 'TN', 'TO', 'TR', 'TT', 'TV', 'TW', 'TZ', 'UA', 'UG', 'US', 'UY', 'UZ', 'VC', 'VN', 'VU', 'WS', 'XK', 'ZA', 'ZW'], 'disc_number': 1, 'duration_ms': 492125, 'explicit': False, 'external_ids': {'isrc': 'GBKQU1931994'}, 'external_urls': {'spotify': 'https://open.spotify.com/track/1YnSMjdb9OlH5SqtyPlZfG'}, 'href': 'https://api.spotify.com/v1/tracks/1YnSMjdb9OlH5SqtyPlZfG', 'id': '1YnSMjdb9OlH5SqtyPlZfG', 'is_local': False, 'name': 'Morning Destination', 'popularity': 2, 'preview_url': 'https://p.scdn.co/mp3-preview/8c412adb22397dda874a957e38a11eb14fc891a1?cid=d6afbe6154a54b2d96cad1a14260cfa9', 'track_number': 3, 'type': 'track', 'uri': 'spotify:track:1YnSMjdb9OlH5SqtyPlZfG'}], 'limit': 20, 'next': None, 'offset': 0, 'previous': None, 'total': 1}}\n"
     ]
    }
   ],
   "source": [
    "headers = {\n",
    "    \"Authorization\": f\"Bearer {access_token}\",\n",
    "}\n",
    "endpoint = \"https://api.spotify.com/v1/search\"\n",
    "data = urlencode({\"q\": \"shamosis morning\", \"type\": \"track\"})\n",
    "lookup_url = f'{endpoint}?{data}'\n",
    "r = requests.get(lookup_url, headers=headers)\n",
    "response = r.json()\n",
    "print(response)\n"
   ]
  },
  {
   "cell_type": "code",
   "execution_count": null,
   "metadata": {},
   "outputs": [],
   "source": []
  },
  {
   "cell_type": "code",
   "execution_count": null,
   "metadata": {},
   "outputs": [],
   "source": []
  },
  {
   "cell_type": "code",
   "execution_count": null,
   "metadata": {},
   "outputs": [],
   "source": []
  }
 ],
 "metadata": {
  "kernelspec": {
   "display_name": "Python 3",
   "language": "python",
   "name": "python3"
  },
  "language_info": {
   "codemirror_mode": {
    "name": "ipython",
    "version": 3
   },
   "file_extension": ".py",
   "mimetype": "text/x-python",
   "name": "python",
   "nbconvert_exporter": "python",
   "pygments_lexer": "ipython3",
   "version": "3.8.5"
  }
 },
 "nbformat": 4,
 "nbformat_minor": 5
}
